{
 "cells": [
  {
   "cell_type": "markdown",
   "metadata": {},
   "source": [
    "# How I learned to stop worrying and Love Deep Learning\n",
    "by Jaron Chang\n",
    "\n",
    "Masters in Health Informatics at UoT\n",
    "\n",
    "Geoff Hinton: On Radiology (Youtube)\n",
    "\n",
    "A.I versus M.D. \n",
    "\n",
    "DICOM ==> Digital Imaging and Communication in Medicine\n",
    "\n",
    "Clinical Data Science Massachusets\n",
    "\n",
    "Binary Classifiers for few data \n",
    "\n",
    "Search for paper on deep learning, radiology, and kidney stones\n",
    "\n",
    "Ronald Summers/NIH, dataset containing images related to radiology\n",
    "\n",
    "KDNuggets: Dataset over algorithms\n",
    "\n",
    "1. Healthcare is not a game\n",
    "    - Labeled datasets\n",
    "    - Unsupervised learning\n",
    "2. Speed\n",
    "    - Offline preprocessing\n",
    "    - Active learning systems\n",
    "3. Privacy is King\n",
    "    - Standard policies to anonymize\n",
    "    - Privacy preserving methods to handle model training in the cloud\n",
    "    - Labeling at Scale\n",
    "4. Plumbing before Rockets\n",
    "5. AUC and Clinical Usefulness\n",
    "    - The performance of the model sometimes is not enough\n",
    "    \n",
    "RSNA Pediatric Bone Age Challenge \n",
    "Search for Open Datasets\n",
    "\n",
    "www.rad-net.org \n",
    "\n",
    "Email: jaron.chong@mcgill.ca\n",
    "\n",
    "Speed matter (Google)"
   ]
  },
  {
   "cell_type": "code",
   "execution_count": null,
   "metadata": {
    "collapsed": true
   },
   "outputs": [],
   "source": []
  }
 ],
 "metadata": {
  "kernelspec": {
   "display_name": "Python 3",
   "language": "python",
   "name": "python3"
  },
  "language_info": {
   "codemirror_mode": {
    "name": "ipython",
    "version": 3
   },
   "file_extension": ".py",
   "mimetype": "text/x-python",
   "name": "python",
   "nbconvert_exporter": "python",
   "pygments_lexer": "ipython3",
   "version": "3.6.3"
  }
 },
 "nbformat": 4,
 "nbformat_minor": 2
}
