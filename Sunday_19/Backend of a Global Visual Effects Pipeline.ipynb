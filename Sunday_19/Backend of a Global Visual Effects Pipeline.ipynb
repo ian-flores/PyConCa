{
 "cells": [
  {
   "cell_type": "markdown",
   "metadata": {},
   "source": [
    "# Backend of a Global Visual Effects Pipeline\n",
    "by Andre Prado"
   ]
  },
  {
   "cell_type": "markdown",
   "metadata": {},
   "source": [
    "Visual effects is used in Feature, TV, and Commercial.\n",
    "\n",
    "The work:\n",
    "    1. Show - The Film, Commercial, or TV Show\n",
    "    2. Sequence - A single set or environment\n",
    "    3. Shot - A single camera movement\n",
    "    4. Task - A unit of work for an artist\n",
    "\n",
    "Houdini focuses on particle imaging. \n",
    "NUKE allows the blending of the images \n",
    "\n",
    "Pipeline:\n",
    "    - Asset System\n",
    "        * All the data produced by artists needs to be tracked and versioned\n",
    "    - \n",
    "    \n",
    "Render Farms\n",
    "    - High Performance Computing\n",
    "    - Render Jobs\n",
    "    - Farm manager\n",
    "\n"
   ]
  }
 ],
 "metadata": {
  "kernelspec": {
   "display_name": "Python 3",
   "language": "python",
   "name": "python3"
  },
  "language_info": {
   "codemirror_mode": {
    "name": "ipython",
    "version": 3
   },
   "file_extension": ".py",
   "mimetype": "text/x-python",
   "name": "python",
   "nbconvert_exporter": "python",
   "pygments_lexer": "ipython3",
   "version": "3.6.3"
  }
 },
 "nbformat": 4,
 "nbformat_minor": 2
}
