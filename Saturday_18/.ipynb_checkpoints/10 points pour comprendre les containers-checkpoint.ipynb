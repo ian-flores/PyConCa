{
 "cells": [
  {
   "cell_type": "markdown",
   "metadata": {},
   "source": [
    "# 10 points pour comprendre les containers\n",
    "by Eric Araujo"
   ]
  },
  {
   "cell_type": "markdown",
   "metadata": {},
   "source": [
    "Pourquoi utilizer le container?\n",
    "    Parce que c'est comme un machin virtuel \n",
    "    C'est comme une virtualization lightweight\n",
    "\n",
    "Un container c'est quoi?\n",
    "    Filesystem and running job in a same place. \n",
    "\n",
    "Isolation c'est pas le meme que la securite. \n",
    "\n",
    "Docker c'est un example de un program qui contient des containers. \n",
    "\n",
    "Docker comment deployer:\n",
    "    1. Code commited to Repository (GitHub)\n",
    "    2. Unit Testing and Compilation\n",
    "    3. Docker Image Built with Code Artifact\n",
    "    4. Docker Image pushed to Registry\n",
    "    5. Docker Image Deployed to Environment\n",
    "\n"
   ]
  }
 ],
 "metadata": {
  "kernelspec": {
   "display_name": "Python 3",
   "language": "python",
   "name": "python3"
  },
  "language_info": {
   "codemirror_mode": {
    "name": "ipython",
    "version": 3
   },
   "file_extension": ".py",
   "mimetype": "text/x-python",
   "name": "python",
   "nbconvert_exporter": "python",
   "pygments_lexer": "ipython3",
   "version": "3.6.3"
  }
 },
 "nbformat": 4,
 "nbformat_minor": 2
}
