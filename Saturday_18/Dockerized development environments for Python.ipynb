{
 "cells": [
  {
   "cell_type": "markdown",
   "metadata": {},
   "source": [
    "# Dockerized development environments for Python\n",
    "by Niall Byrne"
   ]
  },
  {
   "cell_type": "markdown",
   "metadata": {},
   "source": [
    "Compartmentalization\n",
    "    - \"One process\" per container\n",
    "\n",
    "You can change versions of DB, and python\n",
    "\n",
    "Container Eco-Systems\n",
    "    Containers are isolated, but aren't meant to be run isolated. \n",
    "    \n",
    "Docker does very well, Dependency Management, Compartmentalization, and System Modeling (via Conatainer Eco-systems)"
   ]
  },
  {
   "cell_type": "code",
   "execution_count": null,
   "metadata": {
    "collapsed": true
   },
   "outputs": [],
   "source": []
  }
 ],
 "metadata": {
  "kernelspec": {
   "display_name": "Python 3",
   "language": "python",
   "name": "python3"
  },
  "language_info": {
   "codemirror_mode": {
    "name": "ipython",
    "version": 3
   },
   "file_extension": ".py",
   "mimetype": "text/x-python",
   "name": "python",
   "nbconvert_exporter": "python",
   "pygments_lexer": "ipython3",
   "version": "3.6.3"
  }
 },
 "nbformat": 4,
 "nbformat_minor": 2
}
