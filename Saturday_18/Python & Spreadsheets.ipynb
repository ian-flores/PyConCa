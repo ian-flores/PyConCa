{
 "cells": [
  {
   "cell_type": "markdown",
   "metadata": {},
   "source": [
    "# Python & Spreadsheets\n",
    "by Kojo Idrissa"
   ]
  },
  {
   "cell_type": "markdown",
   "metadata": {},
   "source": [
    "https://github.com/kojoidrissa/pyconcan_2017\n",
    "\n",
    "Step 0: Know your Data\n",
    "\n",
    "Open PyXL is a python library to read/write Excel files\n",
    "\n",
    "The parameter data_only set to True in the load_worbook function, it will return the results of the cell, not the formulas that compute them. \n",
    "\n",
    "A dictionary in Python is useful, given that it doesn't allow for repetition.\n",
    "\n",
    "The 'assert' command lets you evaluate for logical arguments\n",
    "\n",
    "Using OpenPyXL we need to use the '.value' command to extract the value from each cell in the sheet. \n",
    "\n",
    "Once you are finished creating a new spreadsheet using openpyxl, you can export it to json using the json library. "
   ]
  },
  {
   "cell_type": "markdown",
   "metadata": {},
   "source": [
    "Issues with Spreadsheets\n",
    "    - Spreadsheets as visual medium\n",
    "    - Unstructured input data\n",
    "    - \"Visual\" output requirements"
   ]
  },
  {
   "cell_type": "code",
   "execution_count": null,
   "metadata": {
    "collapsed": true
   },
   "outputs": [],
   "source": []
  }
 ],
 "metadata": {
  "kernelspec": {
   "display_name": "Python 3",
   "language": "python",
   "name": "python3"
  },
  "language_info": {
   "codemirror_mode": {
    "name": "ipython",
    "version": 3
   },
   "file_extension": ".py",
   "mimetype": "text/x-python",
   "name": "python",
   "nbconvert_exporter": "python",
   "pygments_lexer": "ipython3",
   "version": "3.6.3"
  }
 },
 "nbformat": 4,
 "nbformat_minor": 2
}
