{
 "cells": [
  {
   "cell_type": "markdown",
   "metadata": {},
   "source": [
    "# Pandas and scikit-learn: secret best friends\n",
    "by Christian Hudon"
   ]
  },
  {
   "cell_type": "markdown",
   "metadata": {},
   "source": [
    "In the 0.18 version of scikit-learn you can combine both of them. \n",
    "\n",
    "The problem used to be based on the iteration.\n",
    "\n",
    "If you iterate a numpy array, the result will be different from iterating a pandas dataframe. \n",
    "\n",
    "The solution is to convert the pandas DataFrame into a numpy array, using encoders, etc. \n",
    "\n",
    "For splits, anything pandas-like will work. \n",
    "For pipelines, you probably want to convert the DataFrame into iterable objects. \n",
    "\n",
    "sklearn-pandas in GitHub might be useful\n",
    "\n",
    "http://christianhudon.name/talks/#PyConCa2017"
   ]
  },
  {
   "cell_type": "code",
   "execution_count": null,
   "metadata": {
    "collapsed": true
   },
   "outputs": [],
   "source": []
  }
 ],
 "metadata": {
  "kernelspec": {
   "display_name": "Python 3",
   "language": "python",
   "name": "python3"
  },
  "language_info": {
   "codemirror_mode": {
    "name": "ipython",
    "version": 3
   },
   "file_extension": ".py",
   "mimetype": "text/x-python",
   "name": "python",
   "nbconvert_exporter": "python",
   "pygments_lexer": "ipython3",
   "version": "3.6.3"
  }
 },
 "nbformat": 4,
 "nbformat_minor": 2
}
