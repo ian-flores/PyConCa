{
 "cells": [
  {
   "cell_type": "markdown",
   "metadata": {},
   "source": [
    "# Postgres at any scale\n",
    "By Craig Kerstiens"
   ]
  },
  {
   "cell_type": "markdown",
   "metadata": {},
   "source": [
    "Postgres\n",
    "    - Multiple Datatypes\n",
    "        - Varchar(255) vs plain text\n",
    "        - Timestamp vs timestamptz\n",
    "        - JSON vs JSONB\n",
    "    - GIS\n",
    "    - Index Types\n",
    "    - Full text search\n",
    "    - JSONB"
   ]
  },
  {
   "cell_type": "markdown",
   "metadata": {},
   "source": [
    "psql as a command line tool to run Postgre"
   ]
  },
  {
   "cell_type": "markdown",
   "metadata": {},
   "source": [
    "Backups\n",
    "    1. Let you recover data\n",
    "    \n",
    "Configure your system\n",
    "\n",
    "http://pgtune.leopard.in.ua/\n",
    "\n",
    "Cache Hit Ratio ==> The Ratio of time the information is searched in memory, should hit a 0.99 or more\n",
    "\n",
    "With \"EXPLAIN ANALYZE\" you can see the performance of your query\n",
    "\n",
    "pq_stat_statements helps you see how many queries are running, etc. "
   ]
  },
  {
   "cell_type": "markdown",
   "metadata": {},
   "source": [
    "INDEXES\n",
    "\n",
    "Use BTree for general pourpose\n",
    "GIST is good for spatial data\n",
    "\n",
    "There are composite, functional and conditional indexes\n",
    "\n",
    "Tradeoff between writing and reading data\n",
    "\n",
    "Works well on DJANGO\n",
    "\n",
    "Replication is useful if you have a very very very huge DB\n",
    "Sharding is also useful.\n",
    "\n",
    "Logical(Works < 50 GB) vs Physical Backups (Works > 50GB)"
   ]
  },
  {
   "cell_type": "markdown",
   "metadata": {},
   "source": [
    "### Recap\n",
    "\n",
    "#### Small DB\n",
    "\n",
    "Leverage datatypes\n",
    "\n",
    "#### Medium DB\n",
    "\n",
    "Tune Postgres well\n",
    "Watch cache hit ratio\n",
    "Be generous with indexes\n",
    "\n",
    "#### Large DB\n",
    "\n",
    "Move away from pg_dump\n",
    "Setup Connection Pooling\n",
    "If you need to shard,do it. "
   ]
  },
  {
   "cell_type": "code",
   "execution_count": null,
   "metadata": {
    "collapsed": true
   },
   "outputs": [],
   "source": []
  }
 ],
 "metadata": {
  "kernelspec": {
   "display_name": "Python 3",
   "language": "python",
   "name": "python3"
  },
  "language_info": {
   "codemirror_mode": {
    "name": "ipython",
    "version": 3
   },
   "file_extension": ".py",
   "mimetype": "text/x-python",
   "name": "python",
   "nbconvert_exporter": "python",
   "pygments_lexer": "ipython3",
   "version": "3.6.3"
  }
 },
 "nbformat": 4,
 "nbformat_minor": 2
}
