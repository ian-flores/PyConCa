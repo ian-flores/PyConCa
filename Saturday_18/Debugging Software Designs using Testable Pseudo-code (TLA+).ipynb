{
 "cells": [
  {
   "cell_type": "markdown",
   "metadata": {},
   "source": [
    "# Debugging Software Designs using Testable Pseudo-code (TLA+)\n",
    "by Jay Parlar"
   ]
  },
  {
   "cell_type": "markdown",
   "metadata": {},
   "source": [
    "TLA+ is NOT a programming language.\n",
    "\n",
    "https://learntla.com/ to learn about how to write TLA+\n",
    "\n",
    "You have to test the processes, the interleaving of the processes, and also the values that the different variables can hold. \n",
    "\n",
    "You use invariants to define things that need to be always true. \n",
    "\n",
    "TLA+ will test all the processes and their possible values and print out which one is causing the bug. \n",
    "\n",
    "Conditionals and the processes are not necessarily in order. \n",
    "\n",
    "What did we do?\n",
    "    - Specified the possible actions\n",
    "    - Specified the invariants\n",
    "    \n",
    "*Search for Dr. Leslie Lamport\n",
    "\n",
    "It is used in Amazon, Microsoft, etc. \n",
    "\n",
    "*Search for the Raft Algorithm"
   ]
  },
  {
   "cell_type": "markdown",
   "metadata": {},
   "source": [
    "## Useful Resources"
   ]
  },
  {
   "cell_type": "markdown",
   "metadata": {},
   "source": [
    "- http://lamport.azurewebsites.net/tla/tla.html\n",
    "- http://lamport.azurewebsites.net/video/videos.html\n",
    "- https://learntla.com/introduction\n",
    "- http://lamport.azurewebsites.net/tla/book.html"
   ]
  },
  {
   "cell_type": "code",
   "execution_count": null,
   "metadata": {
    "collapsed": true
   },
   "outputs": [],
   "source": []
  }
 ],
 "metadata": {
  "kernelspec": {
   "display_name": "Python 3",
   "language": "python",
   "name": "python3"
  },
  "language_info": {
   "codemirror_mode": {
    "name": "ipython",
    "version": 3
   },
   "file_extension": ".py",
   "mimetype": "text/x-python",
   "name": "python",
   "nbconvert_exporter": "python",
   "pygments_lexer": "ipython3",
   "version": "3.6.3"
  }
 },
 "nbformat": 4,
 "nbformat_minor": 2
}
